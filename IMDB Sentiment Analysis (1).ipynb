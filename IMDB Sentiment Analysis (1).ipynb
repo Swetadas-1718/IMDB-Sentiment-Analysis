{
 "cells": [
  {
   "cell_type": "markdown",
   "id": "fe989b86",
   "metadata": {},
   "source": [
    "# Sentiment Analysis on IMDB Reviews using Keras and LSTM\n",
    "------------------------------------------------------------------"
   ]
  },
  {
   "cell_type": "markdown",
   "id": "8a199385",
   "metadata": {},
   "source": [
    "Problem Statement\n",
    "--------------------\n",
    "We have to predict whether a review is positive or negative based on sentiments by using LSTM model on the large movie review dataset."
   ]
  },
  {
   "cell_type": "markdown",
   "id": "98ea3860",
   "metadata": {},
   "source": [
    "- Here each input is a sequnece of words.\n",
    "- The large dataset is divided into 25k reviews for train and the same for test.\n",
    "- LSTM's are sometimes very tricky to get them work, but we will use LSTM to work on this problem for solving the issue of long term dependencies.\n",
    "- Sequences can vary in length. So out of the vocabulary, a table is created consisting of frequencies of the words sorted by frequencies later. Now, each input is changed into list of indices of those words in  word-frequency sorted table.\n",
    "- We can quickly develop LSTM for the IMDB sentiment analysis problem and achieve a good accuracy.\n",
    "- Now, we will go through the code to know :\n",
    "    - how to develop a LSTM model for a sequence classififcation problem.\n",
    "    - how to reduce overfitting problem using dropouts.\n",
    "    - how to combine LSTM and CNN( convolutional neural networks ) to get better performance.\n",
    "- Luckily keras provides access to the IMDB dataset builtin."
   ]
  },
  {
   "cell_type": "markdown",
   "id": "f598498b",
   "metadata": {},
   "source": [
    "Import Libs\n",
    "----------"
   ]
  },
  {
   "cell_type": "code",
   "execution_count": 98,
   "id": "44880380",
   "metadata": {},
   "outputs": [],
   "source": [
    "import numpy\n",
    "from keras.datasets import imdb\n",
    "from keras.models import Sequential\n",
    "from keras.layers import Dense\n",
    "from keras.layers import LSTM\n",
    "from keras.layers.embeddings import Embedding\n",
    "from keras.preprocessing import sequence\n",
    "import warnings\n",
    "from keras.models import load_model\n",
    "from keras.layers import Dropout\n",
    "from keras.layers.convolutional import Conv1D\n",
    "from keras.layers.convolutional import MaxPooling1D\n",
    "warnings.filterwarnings(\"ignore\")\n",
    "# fix random seed for reproducibility\n",
    "numpy.random.seed(7)"
   ]
  },
  {
   "cell_type": "markdown",
   "id": "85d912f4",
   "metadata": {},
   "source": [
    "Load the Dataset\n",
    "------------"
   ]
  },
  {
   "cell_type": "code",
   "execution_count": 92,
   "id": "c07f021e",
   "metadata": {},
   "outputs": [],
   "source": [
    "# Keep only the top n words\n",
    "top_words = 5000\n",
    "(X_train, y_train), (X_test, y_test) = imdb.load_data(num_words=top_words)"
   ]
  },
  {
   "cell_type": "code",
   "execution_count": 13,
   "id": "5fc6e58a",
   "metadata": {},
   "outputs": [
    {
     "data": {
      "text/plain": [
       "(25000,)"
      ]
     },
     "execution_count": 13,
     "metadata": {},
     "output_type": "execute_result"
    }
   ],
   "source": [
    "X_train.shape"
   ]
  },
  {
   "cell_type": "code",
   "execution_count": 14,
   "id": "997a65f7",
   "metadata": {},
   "outputs": [
    {
     "name": "stdout",
     "output_type": "stream",
     "text": [
      "189\n"
     ]
    },
    {
     "data": {
      "text/plain": [
       "[1,\n",
       " 194,\n",
       " 1153,\n",
       " 194,\n",
       " 2,\n",
       " 78,\n",
       " 228,\n",
       " 5,\n",
       " 6,\n",
       " 1463,\n",
       " 4369,\n",
       " 2,\n",
       " 134,\n",
       " 26,\n",
       " 4,\n",
       " 715,\n",
       " 8,\n",
       " 118,\n",
       " 1634,\n",
       " 14,\n",
       " 394,\n",
       " 20,\n",
       " 13,\n",
       " 119,\n",
       " 954,\n",
       " 189,\n",
       " 102,\n",
       " 5,\n",
       " 207,\n",
       " 110,\n",
       " 3103,\n",
       " 21,\n",
       " 14,\n",
       " 69,\n",
       " 188,\n",
       " 8,\n",
       " 30,\n",
       " 23,\n",
       " 7,\n",
       " 4,\n",
       " 249,\n",
       " 126,\n",
       " 93,\n",
       " 4,\n",
       " 114,\n",
       " 9,\n",
       " 2300,\n",
       " 1523,\n",
       " 5,\n",
       " 647,\n",
       " 4,\n",
       " 116,\n",
       " 9,\n",
       " 35,\n",
       " 2,\n",
       " 4,\n",
       " 229,\n",
       " 9,\n",
       " 340,\n",
       " 1322,\n",
       " 4,\n",
       " 118,\n",
       " 9,\n",
       " 4,\n",
       " 130,\n",
       " 4901,\n",
       " 19,\n",
       " 4,\n",
       " 1002,\n",
       " 5,\n",
       " 89,\n",
       " 29,\n",
       " 952,\n",
       " 46,\n",
       " 37,\n",
       " 4,\n",
       " 455,\n",
       " 9,\n",
       " 45,\n",
       " 43,\n",
       " 38,\n",
       " 1543,\n",
       " 1905,\n",
       " 398,\n",
       " 4,\n",
       " 1649,\n",
       " 26,\n",
       " 2,\n",
       " 5,\n",
       " 163,\n",
       " 11,\n",
       " 3215,\n",
       " 2,\n",
       " 4,\n",
       " 1153,\n",
       " 9,\n",
       " 194,\n",
       " 775,\n",
       " 7,\n",
       " 2,\n",
       " 2,\n",
       " 349,\n",
       " 2637,\n",
       " 148,\n",
       " 605,\n",
       " 2,\n",
       " 2,\n",
       " 15,\n",
       " 123,\n",
       " 125,\n",
       " 68,\n",
       " 2,\n",
       " 2,\n",
       " 15,\n",
       " 349,\n",
       " 165,\n",
       " 4362,\n",
       " 98,\n",
       " 5,\n",
       " 4,\n",
       " 228,\n",
       " 9,\n",
       " 43,\n",
       " 2,\n",
       " 1157,\n",
       " 15,\n",
       " 299,\n",
       " 120,\n",
       " 5,\n",
       " 120,\n",
       " 174,\n",
       " 11,\n",
       " 220,\n",
       " 175,\n",
       " 136,\n",
       " 50,\n",
       " 9,\n",
       " 4373,\n",
       " 228,\n",
       " 2,\n",
       " 5,\n",
       " 2,\n",
       " 656,\n",
       " 245,\n",
       " 2350,\n",
       " 5,\n",
       " 4,\n",
       " 2,\n",
       " 131,\n",
       " 152,\n",
       " 491,\n",
       " 18,\n",
       " 2,\n",
       " 32,\n",
       " 2,\n",
       " 1212,\n",
       " 14,\n",
       " 9,\n",
       " 6,\n",
       " 371,\n",
       " 78,\n",
       " 22,\n",
       " 625,\n",
       " 64,\n",
       " 1382,\n",
       " 9,\n",
       " 8,\n",
       " 168,\n",
       " 145,\n",
       " 23,\n",
       " 4,\n",
       " 1690,\n",
       " 15,\n",
       " 16,\n",
       " 4,\n",
       " 1355,\n",
       " 5,\n",
       " 28,\n",
       " 6,\n",
       " 52,\n",
       " 154,\n",
       " 462,\n",
       " 33,\n",
       " 89,\n",
       " 78,\n",
       " 285,\n",
       " 16,\n",
       " 145,\n",
       " 95]"
      ]
     },
     "execution_count": 14,
     "metadata": {},
     "output_type": "execute_result"
    }
   ],
   "source": [
    "print(len(X_train[1]))\n",
    "X_train[1]"
   ]
  },
  {
   "cell_type": "markdown",
   "id": "764ff4ca",
   "metadata": {},
   "source": [
    "Pad and Truncate Inputs\n",
    "---------------------------"
   ]
  },
  {
   "cell_type": "code",
   "execution_count": 93,
   "id": "1d8a7ca6",
   "metadata": {
    "scrolled": true
   },
   "outputs": [
    {
     "name": "stdout",
     "output_type": "stream",
     "text": [
      "(25000, 600)\n",
      "[   0    0    0    0    0    0    0    0    0    0    0    0    0    0\n",
      "    0    0    0    0    0    0    0    0    0    0    0    0    0    0\n",
      "    0    0    0    0    0    0    0    0    0    0    0    0    0    0\n",
      "    0    0    0    0    0    0    0    0    0    0    0    0    0    0\n",
      "    0    0    0    0    0    0    0    0    0    0    0    0    0    0\n",
      "    0    0    0    0    0    0    0    0    0    0    0    0    0    0\n",
      "    0    0    0    0    0    0    0    0    0    0    0    0    0    0\n",
      "    0    0    0    0    0    0    0    0    0    0    0    0    0    0\n",
      "    0    0    0    0    0    0    0    0    0    0    0    0    0    0\n",
      "    0    0    0    0    0    0    0    0    0    0    0    0    0    0\n",
      "    0    0    0    0    0    0    0    0    0    0    0    0    0    0\n",
      "    0    0    0    0    0    0    0    0    0    0    0    0    0    0\n",
      "    0    0    0    0    0    0    0    0    0    0    0    0    0    0\n",
      "    0    0    0    0    0    0    0    0    0    0    0    0    0    0\n",
      "    0    0    0    0    0    0    0    0    0    0    0    0    0    0\n",
      "    0    0    0    0    0    0    0    0    0    0    0    0    0    0\n",
      "    0    0    0    0    0    0    0    0    0    0    0    0    0    0\n",
      "    0    0    0    0    0    0    0    0    0    0    0    0    0    0\n",
      "    0    0    0    0    0    0    0    0    0    0    0    0    0    0\n",
      "    0    0    0    0    0    0    0    0    0    0    0    0    0    0\n",
      "    0    0    0    0    0    0    0    0    0    0    0    0    0    0\n",
      "    0    0    0    0    0    0    0    0    0    0    0    0    0    0\n",
      "    0    0    0    0    0    0    0    0    0    0    0    0    0    0\n",
      "    0    0    0    0    0    0    0    0    0    0    0    0    0    0\n",
      "    0    0    0    0    0    0    0    0    0    0    0    0    0    0\n",
      "    0    0    0    0    0    0    0    0    0    0    0    0    0    0\n",
      "    0    0    0    0    0    0    0    0    0    0    0    0    0    0\n",
      "    0    0    0    0    0    0    0    0    0    0    0    0    0    0\n",
      "    0    0    0    0    0    0    0    0    0    0    0    0    0    0\n",
      "    0    0    0    0    0    1  194 1153  194    2   78  228    5    6\n",
      " 1463 4369    2  134   26    4  715    8  118 1634   14  394   20   13\n",
      "  119  954  189  102    5  207  110 3103   21   14   69  188    8   30\n",
      "   23    7    4  249  126   93    4  114    9 2300 1523    5  647    4\n",
      "  116    9   35    2    4  229    9  340 1322    4  118    9    4  130\n",
      " 4901   19    4 1002    5   89   29  952   46   37    4  455    9   45\n",
      "   43   38 1543 1905  398    4 1649   26    2    5  163   11 3215    2\n",
      "    4 1153    9  194  775    7    2    2  349 2637  148  605    2    2\n",
      "   15  123  125   68    2    2   15  349  165 4362   98    5    4  228\n",
      "    9   43    2 1157   15  299  120    5  120  174   11  220  175  136\n",
      "   50    9 4373  228    2    5    2  656  245 2350    5    4    2  131\n",
      "  152  491   18    2   32    2 1212   14    9    6  371   78   22  625\n",
      "   64 1382    9    8  168  145   23    4 1690   15   16    4 1355    5\n",
      "   28    6   52  154  462   33   89   78  285   16  145   95]\n"
     ]
    }
   ],
   "source": [
    "max_review_length = 600\n",
    "X_train = sequence.pad_sequences(X_train, maxlen=max_review_length)\n",
    "X_test = sequence.pad_sequences(X_test, maxlen=max_review_length)\n",
    "\n",
    "print(X_train.shape)\n",
    "print(X_train[1])"
   ]
  },
  {
   "cell_type": "markdown",
   "id": "77890510",
   "metadata": {},
   "source": [
    "Build the model\n",
    "----------------------------\n",
    "\n",
    "# LSTM model"
   ]
  },
  {
   "cell_type": "code",
   "execution_count": 24,
   "id": "c5db5edf",
   "metadata": {},
   "outputs": [
    {
     "name": "stdout",
     "output_type": "stream",
     "text": [
      "Model: \"sequential_1\"\n",
      "_________________________________________________________________\n",
      "Layer (type)                 Output Shape              Param #   \n",
      "=================================================================\n",
      "embedding_1 (Embedding)      (None, 600, 32)           160032    \n",
      "_________________________________________________________________\n",
      "lstm_1 (LSTM)                (None, 100)               53200     \n",
      "_________________________________________________________________\n",
      "dense_1 (Dense)              (None, 1)                 101       \n",
      "=================================================================\n",
      "Total params: 213,333\n",
      "Trainable params: 213,333\n",
      "Non-trainable params: 0\n",
      "_________________________________________________________________\n",
      "None\n"
     ]
    }
   ],
   "source": [
    "embedding_vec_length = 32\n",
    "model = Sequential()\n",
    "model.add(Embedding(top_words+1, embedding_vec_length, input_length = max_review_length))\n",
    "model.add(LSTM(100))\n",
    "model.add(Dense(1, activation='sigmoid'))\n",
    "model.compile(loss='binary_crossentropy', optimizer='adam', metrics=['accuracy'])\n",
    "print(model.summary())"
   ]
  },
  {
   "cell_type": "code",
   "execution_count": 25,
   "id": "b4af2d4a",
   "metadata": {},
   "outputs": [
    {
     "name": "stdout",
     "output_type": "stream",
     "text": [
      "Epoch 1/10\n",
      "391/391 [==============================] - 95s 67ms/step - loss: 0.5825 - accuracy: 0.6652\n",
      "Epoch 2/10\n",
      "391/391 [==============================] - 25s 65ms/step - loss: 0.2939 - accuracy: 0.8866\n",
      "Epoch 3/10\n",
      "391/391 [==============================] - 26s 66ms/step - loss: 0.2876 - accuracy: 0.8874\n",
      "Epoch 4/10\n",
      "391/391 [==============================] - 26s 66ms/step - loss: 0.2374 - accuracy: 0.9099\n",
      "Epoch 5/10\n",
      "391/391 [==============================] - 25s 65ms/step - loss: 0.1967 - accuracy: 0.9266\n",
      "Epoch 6/10\n",
      "391/391 [==============================] - 26s 66ms/step - loss: 0.1821 - accuracy: 0.9326\n",
      "Epoch 7/10\n",
      "391/391 [==============================] - 27s 69ms/step - loss: 0.1588 - accuracy: 0.9420\n",
      "Epoch 8/10\n",
      "391/391 [==============================] - 26s 65ms/step - loss: 0.2180 - accuracy: 0.9157\n",
      "Epoch 9/10\n",
      "391/391 [==============================] - 26s 67ms/step - loss: 0.1320 - accuracy: 0.9501\n",
      "Epoch 10/10\n",
      "391/391 [==============================] - 26s 67ms/step - loss: 0.1207 - accuracy: 0.9564\n",
      "Accuracy: 85.86%\n"
     ]
    }
   ],
   "source": [
    "model.fit(X_train, y_train, epochs = 10, batch_size = 64)\n",
    "scores = model.evaluate(X_test, y_test, verbose = 0)\n",
    "print(\"Accuracy: %.2f%%\" % (scores[1]*100))"
   ]
  },
  {
   "cell_type": "markdown",
   "id": "d54a5dfc",
   "metadata": {},
   "source": [
    "Testing\n",
    "---------"
   ]
  },
  {
   "cell_type": "code",
   "execution_count": 43,
   "id": "2749b5ad",
   "metadata": {},
   "outputs": [
    {
     "name": "stdout",
     "output_type": "stream",
     "text": [
      "Correct Prediction: 21466\n",
      "Wrong Prediction: 3534\n",
      "Accuracy: 85.86399999999999\n"
     ]
    }
   ],
   "source": [
    "y_pred = model.predict_classes(X_test, batch_size = 64)\n",
    "true = 0\n",
    "for i, y in enumerate(y_test):\n",
    "    if y ==  y_pred[i]:\n",
    "        true += 1\n",
    "\n",
    "print('Correct Prediction: {}'.format(true))\n",
    "print('Wrong Prediction: {}'.format(len(y_pred) - true))\n",
    "print('Accuracy: {}'.format(true/len(y_pred)*100))\n"
   ]
  },
  {
   "cell_type": "markdown",
   "id": "cc62d8cc",
   "metadata": {},
   "source": [
    "Save Model\n",
    "----------"
   ]
  },
  {
   "cell_type": "code",
   "execution_count": 44,
   "id": "17f94d02",
   "metadata": {},
   "outputs": [
    {
     "name": "stdout",
     "output_type": "stream",
     "text": [
      "Saved model to disk\n"
     ]
    }
   ],
   "source": [
    "model.save(\"imdblstm.h5\")\n",
    "print(\"Saved model to disk\")"
   ]
  },
  {
   "cell_type": "markdown",
   "id": "d550f704",
   "metadata": {},
   "source": [
    "Your saved model can be loaded by calling load_model() function and passing the filename you saved."
   ]
  },
  {
   "cell_type": "markdown",
   "id": "77d45ba7",
   "metadata": {},
   "source": [
    "Load Saved Model\n",
    "-----------------"
   ]
  },
  {
   "cell_type": "code",
   "execution_count": 46,
   "id": "adab5e26",
   "metadata": {},
   "outputs": [
    {
     "name": "stdout",
     "output_type": "stream",
     "text": [
      "Model: \"sequential_1\"\n",
      "_________________________________________________________________\n",
      "Layer (type)                 Output Shape              Param #   \n",
      "=================================================================\n",
      "embedding_1 (Embedding)      (None, 600, 32)           160032    \n",
      "_________________________________________________________________\n",
      "lstm_1 (LSTM)                (None, 100)               53200     \n",
      "_________________________________________________________________\n",
      "dense_1 (Dense)              (None, 1)                 101       \n",
      "=================================================================\n",
      "Total params: 213,333\n",
      "Trainable params: 213,333\n",
      "Non-trainable params: 0\n",
      "_________________________________________________________________\n"
     ]
    }
   ],
   "source": [
    "model1 = load_model('imdblstm.h5')\n",
    "model1.summary()"
   ]
  },
  {
   "cell_type": "code",
   "execution_count": 76,
   "id": "3ca5a2b9",
   "metadata": {},
   "outputs": [
    {
     "name": "stdout",
     "output_type": "stream",
     "text": [
      "[0.99361765]\n"
     ]
    }
   ],
   "source": [
    "result = model1.predict(X_test)[90]\n",
    "print(result)"
   ]
  },
  {
   "cell_type": "code",
   "execution_count": 77,
   "id": "c91a7a4d",
   "metadata": {},
   "outputs": [
    {
     "name": "stdout",
     "output_type": "stream",
     "text": [
      "Postive\n"
     ]
    }
   ],
   "source": [
    "if result >= 0.75:\n",
    "    print('Postive')\n",
    "else:\n",
    "    print('Negative')"
   ]
  },
  {
   "cell_type": "markdown",
   "id": "7095f60d",
   "metadata": {},
   "source": [
    "# LSTM model with Dropout\n"
   ]
  },
  {
   "cell_type": "markdown",
   "id": "9133146d",
   "metadata": {},
   "source": [
    "RNN's like LSTM are more likely to suffer overfitting problems. So dropouts can be applied between the embedding and LSTM layers and the LSTM and Dense output layers. Let's try them out."
   ]
  },
  {
   "cell_type": "code",
   "execution_count": 94,
   "id": "289781ab",
   "metadata": {},
   "outputs": [
    {
     "name": "stdout",
     "output_type": "stream",
     "text": [
      "Model: \"sequential_5\"\n",
      "_________________________________________________________________\n",
      "Layer (type)                 Output Shape              Param #   \n",
      "=================================================================\n",
      "embedding_5 (Embedding)      (None, 600, 32)           160000    \n",
      "_________________________________________________________________\n",
      "dropout_4 (Dropout)          (None, 600, 32)           0         \n",
      "_________________________________________________________________\n",
      "lstm_4 (LSTM)                (None, 100)               53200     \n",
      "_________________________________________________________________\n",
      "dropout_5 (Dropout)          (None, 100)               0         \n",
      "_________________________________________________________________\n",
      "dense_4 (Dense)              (None, 1)                 101       \n",
      "=================================================================\n",
      "Total params: 213,301\n",
      "Trainable params: 213,301\n",
      "Non-trainable params: 0\n",
      "_________________________________________________________________\n",
      "None\n"
     ]
    }
   ],
   "source": [
    "embedding_vec_length = 32\n",
    "model2 = Sequential()\n",
    "model2.add(Embedding(top_words, embedding_vec_length, input_length=max_review_length))\n",
    "model2.add(Dropout(0.2))\n",
    "model2.add(LSTM(100))\n",
    "model2.add(Dropout(0.2))\n",
    "model2.add(Dense(1, activation='sigmoid'))\n",
    "model2.compile(loss='binary_crossentropy', optimizer='adam', metrics=['accuracy'])\n",
    "print(model2.summary())"
   ]
  },
  {
   "cell_type": "code",
   "execution_count": 95,
   "id": "ca061171",
   "metadata": {},
   "outputs": [
    {
     "name": "stdout",
     "output_type": "stream",
     "text": [
      "Epoch 1/10\n",
      "391/391 [==============================] - 33s 67ms/step - loss: 0.5698 - accuracy: 0.6787\n",
      "Epoch 2/10\n",
      "391/391 [==============================] - 27s 68ms/step - loss: 0.2955 - accuracy: 0.8807\n",
      "Epoch 3/10\n",
      "391/391 [==============================] - 26s 66ms/step - loss: 0.2762 - accuracy: 0.8876\n",
      "Epoch 4/10\n",
      "391/391 [==============================] - 26s 67ms/step - loss: 0.2451 - accuracy: 0.9040\n",
      "Epoch 5/10\n",
      "391/391 [==============================] - 27s 69ms/step - loss: 0.2209 - accuracy: 0.9186\n",
      "Epoch 6/10\n",
      "391/391 [==============================] - 26s 67ms/step - loss: 0.1937 - accuracy: 0.9259\n",
      "Epoch 7/10\n",
      "391/391 [==============================] - 27s 69ms/step - loss: 0.1776 - accuracy: 0.9326\n",
      "Epoch 8/10\n",
      "391/391 [==============================] - 26s 68ms/step - loss: 0.1631 - accuracy: 0.9386\n",
      "Epoch 9/10\n",
      "391/391 [==============================] - 26s 67ms/step - loss: 0.1673 - accuracy: 0.9388\n",
      "Epoch 10/10\n",
      "391/391 [==============================] - 27s 70ms/step - loss: 0.1395 - accuracy: 0.9478\n",
      "Accuracy: 85.86%\n"
     ]
    }
   ],
   "source": [
    "model2.fit(X_train, y_train, epochs = 10, batch_size = 64)\n",
    "scores = model.evaluate(X_test, y_test, verbose = 0)\n",
    "print(\"Accuracy: %.2f%%\" % (scores[1]*100))"
   ]
  },
  {
   "cell_type": "markdown",
   "id": "3c86160a",
   "metadata": {},
   "source": [
    "Here, we got same accuracy as LSTM model without dropout. Let's try LSTM with CNN. "
   ]
  },
  {
   "cell_type": "markdown",
   "id": "9c1c40c6",
   "metadata": {},
   "source": [
    "# LSTM and CNN "
   ]
  },
  {
   "cell_type": "code",
   "execution_count": 100,
   "id": "6e4f4e0a",
   "metadata": {},
   "outputs": [
    {
     "name": "stdout",
     "output_type": "stream",
     "text": [
      "Model: \"sequential_9\"\n",
      "_________________________________________________________________\n",
      "Layer (type)                 Output Shape              Param #   \n",
      "=================================================================\n",
      "embedding_9 (Embedding)      (None, 600, 32)           160000    \n",
      "_________________________________________________________________\n",
      "conv1d_1 (Conv1D)            (None, 600, 32)           3104      \n",
      "_________________________________________________________________\n",
      "max_pooling1d_1 (MaxPooling1 (None, 300, 32)           0         \n",
      "_________________________________________________________________\n",
      "lstm_8 (LSTM)                (None, 100)               53200     \n",
      "_________________________________________________________________\n",
      "dense_8 (Dense)              (None, 1)                 101       \n",
      "=================================================================\n",
      "Total params: 216,405\n",
      "Trainable params: 216,405\n",
      "Non-trainable params: 0\n",
      "_________________________________________________________________\n",
      "None\n",
      "Epoch 1/10\n",
      "391/391 [==============================] - 23s 45ms/step - loss: 0.5517 - accuracy: 0.6746\n",
      "Epoch 2/10\n",
      "391/391 [==============================] - 17s 43ms/step - loss: 0.2506 - accuracy: 0.9007\n",
      "Epoch 3/10\n",
      "391/391 [==============================] - 17s 43ms/step - loss: 0.1785 - accuracy: 0.9347\n",
      "Epoch 4/10\n",
      "391/391 [==============================] - 17s 43ms/step - loss: 0.1502 - accuracy: 0.9457\n",
      "Epoch 5/10\n",
      "391/391 [==============================] - 17s 44ms/step - loss: 0.1243 - accuracy: 0.9587\n",
      "Epoch 6/10\n",
      "391/391 [==============================] - 17s 43ms/step - loss: 0.0985 - accuracy: 0.9692\n",
      "Epoch 7/10\n",
      "391/391 [==============================] - 17s 43ms/step - loss: 0.0891 - accuracy: 0.9723\n",
      "Epoch 8/10\n",
      "391/391 [==============================] - 17s 43ms/step - loss: 0.0693 - accuracy: 0.9797\n",
      "Epoch 9/10\n",
      "391/391 [==============================] - 17s 44ms/step - loss: 0.0687 - accuracy: 0.9791\n",
      "Epoch 10/10\n",
      "391/391 [==============================] - 17s 43ms/step - loss: 0.0428 - accuracy: 0.9881\n",
      "Accuracy: 87.54%\n"
     ]
    }
   ],
   "source": [
    "embedding_vecor_length = 32\n",
    "model4 = Sequential()\n",
    "model4.add(Embedding(top_words, embedding_vec_length, input_length=max_review_length))\n",
    "model4.add(Conv1D(filters=32, kernel_size=3, padding='same', activation='relu'))\n",
    "model4.add(MaxPooling1D(pool_size=2))\n",
    "model4.add(LSTM(100))\n",
    "model4.add(Dense(1, activation='sigmoid'))\n",
    "model4.compile(loss='binary_crossentropy', optimizer='adam', metrics=['accuracy'])\n",
    "print(model4.summary())\n",
    "model4.fit(X_train, y_train, epochs=10, batch_size=64)\n",
    "scores = model4.evaluate(X_test, y_test, verbose=0)\n",
    "print(\"Accuracy: %.2f%%\" % (scores[1]*100))"
   ]
  },
  {
   "cell_type": "markdown",
   "id": "11be2ef7",
   "metadata": {},
   "source": [
    "I expect that, better results can be achieved over more epochs. We somehow got more accuracy using LSTM with CNN."
   ]
  }
 ],
 "metadata": {
  "kernelspec": {
   "display_name": "Python 3",
   "language": "python",
   "name": "python3"
  },
  "language_info": {
   "codemirror_mode": {
    "name": "ipython",
    "version": 3
   },
   "file_extension": ".py",
   "mimetype": "text/x-python",
   "name": "python",
   "nbconvert_exporter": "python",
   "pygments_lexer": "ipython3",
   "version": "3.8.5"
  }
 },
 "nbformat": 4,
 "nbformat_minor": 5
}
